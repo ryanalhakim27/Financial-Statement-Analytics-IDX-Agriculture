{
 "cells": [
  {
   "cell_type": "code",
   "execution_count": 578,
   "id": "0c1c36f9",
   "metadata": {},
   "outputs": [],
   "source": [
    "import pandas as pd\n",
    "import numpy as np\n",
    "import seaborn as sns\n",
    "import matplotlib.pyplot as plt"
   ]
  },
  {
   "cell_type": "code",
   "execution_count": 602,
   "id": "0ee2c33f",
   "metadata": {},
   "outputs": [],
   "source": [
    "data=pd.read_csv('data.csv')"
   ]
  },
  {
   "cell_type": "code",
   "execution_count": 580,
   "id": "1c9a7efa",
   "metadata": {},
   "outputs": [
    {
     "name": "stdout",
     "output_type": "stream",
     "text": [
      "<class 'pandas.core.frame.DataFrame'>\n",
      "RangeIndex: 79 entries, 0 to 78\n",
      "Data columns (total 9 columns):\n",
      " #   Column                  Non-Null Count  Dtype  \n",
      "---  ------                  --------------  -----  \n",
      " 0   Unnamed: 0              79 non-null     int64  \n",
      " 1   company                 79 non-null     object \n",
      " 2   time                    79 non-null     object \n",
      " 3   debt_ratio              79 non-null     float64\n",
      " 4   return_on_equity_ratio  79 non-null     float64\n",
      " 5   current_ratio           79 non-null     float64\n",
      " 6   return_on_asset_ratio   79 non-null     float64\n",
      " 7   debt_to_equity_ratio    79 non-null     float64\n",
      " 8   EPS                     22 non-null     float64\n",
      "dtypes: float64(6), int64(1), object(2)\n",
      "memory usage: 5.7+ KB\n"
     ]
    }
   ],
   "source": [
    "data.info()"
   ]
  },
  {
   "cell_type": "code",
   "execution_count": 581,
   "id": "a425ee52",
   "metadata": {},
   "outputs": [],
   "source": [
    "data=data.drop(columns='Unnamed: 0')\n",
    "data=data[data.time!='2023-03-30'].reset_index(drop=True)"
   ]
  },
  {
   "cell_type": "code",
   "execution_count": 582,
   "id": "0331f111",
   "metadata": {},
   "outputs": [],
   "source": [
    "data=data.groupby(by=['company'],as_index=False).mean()"
   ]
  },
  {
   "cell_type": "code",
   "execution_count": 585,
   "id": "66e476a0",
   "metadata": {},
   "outputs": [],
   "source": [
    "data_string=data[['company','EPS']]\n",
    "data_num=data.drop(columns=['company','EPS'])"
   ]
  },
  {
   "cell_type": "code",
   "execution_count": 586,
   "id": "1d46dbc9",
   "metadata": {},
   "outputs": [],
   "source": [
    "#Function to get weight from entropy\n",
    "def weight_based_on_entropy(data):\n",
    "    #Normalization of negative data\n",
    "    for col in data_num.columns:\n",
    "        if np.min(data_num[col]) < 0:\n",
    "            minimum = data[col].min()\n",
    "            data_num[col]=data_num[col].transform(lambda X: X-minimum)\n",
    "        else:\n",
    "            continue\n",
    "        \n",
    "    #Create table calculation of pij\n",
    "    pij=pd.DataFrame(columns=data_num.columns)\n",
    "    for col in data_num.columns:\n",
    "        pij[col]=data_num[col]/np.sum(data_num[col])\n",
    "    \n",
    "    #Calculate entropy\n",
    "    entropy=pd.DataFrame(columns=pij.columns)\n",
    "    for col in pij.columns:\n",
    "        entropy[col]=pij[col]*np.log(pij[col])\n",
    "    for col in entropy.columns:\n",
    "        entropy[col]=-(1/np.log(len(entropy[col])))*np.sum(entropy[col])\n",
    "    entropy=entropy.iloc[0]\n",
    "    \n",
    "    #calculate weight\n",
    "    weight=pd.Series(index=entropy.index)\n",
    "    for i in weight.index:\n",
    "        weight[i]=1-entropy[i]\n",
    "    weight_final=pd.Series(index=weight.index)\n",
    "    for i in weight.index:\n",
    "        weight_final[i]=weight[i]/np.sum(weight)\n",
    "    return weight_final\n",
    "\n",
    "    #Calculate distance and performance\n",
    "    distance_matrix=pd.DataFrame(columns=['Distance_Positive',\n",
    "                                          'Distance_Negative',\n",
    "                                          'Performance_Score'],\n",
    "                                 index=data_num2.index)\n",
    "    "
   ]
  },
  {
   "cell_type": "code",
   "execution_count": 587,
   "id": "47c01db4",
   "metadata": {},
   "outputs": [
    {
     "name": "stderr",
     "output_type": "stream",
     "text": [
      "/Users/macbook/opt/anaconda3/lib/python3.9/site-packages/pandas/core/arraylike.py:397: RuntimeWarning: divide by zero encountered in log\n",
      "  result = getattr(ufunc, method)(*inputs, **kwargs)\n",
      "/var/folders/j8/y_9b3dcx03nct600zgv3jf_80000gn/T/ipykernel_2516/3627909253.py:25: FutureWarning: The default dtype for empty Series will be 'object' instead of 'float64' in a future version. Specify a dtype explicitly to silence this warning.\n",
      "  weight=pd.Series(index=entropy.index)\n",
      "/var/folders/j8/y_9b3dcx03nct600zgv3jf_80000gn/T/ipykernel_2516/3627909253.py:28: FutureWarning: The default dtype for empty Series will be 'object' instead of 'float64' in a future version. Specify a dtype explicitly to silence this warning.\n",
      "  weight_final=pd.Series(index=weight.index)\n"
     ]
    }
   ],
   "source": [
    "weight=weight_based_on_entropy(data_num)"
   ]
  },
  {
   "cell_type": "code",
   "execution_count": 588,
   "id": "39d932e0",
   "metadata": {},
   "outputs": [
    {
     "data": {
      "text/plain": [
       "debt_ratio                0.154547\n",
       "return_on_equity_ratio    0.052824\n",
       "current_ratio             0.278944\n",
       "return_on_asset_ratio     0.133824\n",
       "debt_to_equity_ratio      0.379861\n",
       "dtype: float64"
      ]
     },
     "execution_count": 588,
     "metadata": {},
     "output_type": "execute_result"
    }
   ],
   "source": [
    "weight"
   ]
  },
  {
   "cell_type": "code",
   "execution_count": 589,
   "id": "4b76663c",
   "metadata": {},
   "outputs": [
    {
     "data": {
      "text/plain": [
       "<AxesSubplot:>"
      ]
     },
     "execution_count": 589,
     "metadata": {},
     "output_type": "execute_result"
    },
    {
     "data": {
      "image/png": "[encoded data removed]",
      "text/plain": [
       "<Figure size 640x480 with 1 Axes>"
      ]
     },
     "metadata": {},
     "output_type": "display_data"
    }
   ],
   "source": [
    "sns.barplot(x=weight.values, y=weight.index)"
   ]
  },
  {
   "cell_type": "markdown",
   "id": "789303cc",
   "metadata": {},
   "source": [
    "Calculate TOPSIS"
   ]
  },
  {
   "cell_type": "code",
   "execution_count": 590,
   "id": "f4003a0e",
   "metadata": {},
   "outputs": [],
   "source": [
    "data_num2=data.drop(columns=['company','EPS'])"
   ]
  },
  {
   "cell_type": "code",
   "execution_count": 591,
   "id": "70a14dab",
   "metadata": {},
   "outputs": [],
   "source": [
    "def create_rank_TOPSIS(data,weight):\n",
    "    #Normalization of data\n",
    "    for col in data.columns:\n",
    "        sum_square = 0\n",
    "        for i in data.index:\n",
    "            sum_square +=(data[col][i])**2\n",
    "        data[col]=data[col].map(lambda x: x/sum_square)\n",
    "    \n",
    "    #Calculate weight normalized matrix\n",
    "    weight_top=pd.DataFrame(columns=data.columns)\n",
    "    for col in weight_top.columns:\n",
    "        weight_top[col]=data[col].map(lambda x: x* weight[col])\n",
    "        \n",
    "    #Create array of ideal best and ideal worst\n",
    "    ideal_best=pd.Series(index=weight_top.columns)\n",
    "    ideal_worst=pd.Series(index=weight_top.columns)\n",
    "    low_better=['debt_to_equity_ratio','debt_ratio']\n",
    "    high_better=['current_ratio','return_on_asset_ratio','return_on_equity_ratio']\n",
    "    for i in weight_top.columns:\n",
    "        if i in low_better:\n",
    "            ideal_best[i]=weight_top[i][weight_top[i]>0].min()\n",
    "            ideal_worst[i]=weight_top[i].max()\n",
    "        elif i in high_better:\n",
    "            ideal_best[i]=weight_top[i].max()\n",
    "            ideal_worst[i]=weight_top[i].min()\n",
    "    array_ideal_best=np.array(ideal_best)\n",
    "    array_ideal_worst=np.array(ideal_worst)\n",
    "    \n",
    "   \n",
    "    #Create distance matrix\n",
    "    distance_matrix=pd.DataFrame(columns=['Distance_Positive','Distance_Negative','Performance_Score'],index=data.index)\n",
    "    for i in data.index:\n",
    "        distance_matrix['Distance_Positive'].iloc[i]=np.linalg.norm(data.iloc[i].to_numpy() - array_ideal_best)\n",
    "        distance_matrix['Distance_Negative'].iloc[i]=np.linalg.norm(data.iloc[i].to_numpy() - array_ideal_worst)\n",
    "        distance_matrix['Performance_Score'].iloc[i]=distance_matrix['Distance_Negative'].iloc[i]/(distance_matrix['Distance_Negative'].iloc[i]+distance_matrix['Distance_Positive'].iloc[i])\n",
    "    \n",
    "    return distance_matrix\n"
   ]
  },
  {
   "cell_type": "code",
   "execution_count": 592,
   "id": "e52890f4",
   "metadata": {},
   "outputs": [
    {
     "name": "stderr",
     "output_type": "stream",
     "text": [
      "/var/folders/j8/y_9b3dcx03nct600zgv3jf_80000gn/T/ipykernel_2516/1329512307.py:15: FutureWarning: The default dtype for empty Series will be 'object' instead of 'float64' in a future version. Specify a dtype explicitly to silence this warning.\n",
      "  ideal_best=pd.Series(index=weight_top.columns)\n",
      "/var/folders/j8/y_9b3dcx03nct600zgv3jf_80000gn/T/ipykernel_2516/1329512307.py:16: FutureWarning: The default dtype for empty Series will be 'object' instead of 'float64' in a future version. Specify a dtype explicitly to silence this warning.\n",
      "  ideal_worst=pd.Series(index=weight_top.columns)\n"
     ]
    }
   ],
   "source": [
    "distance=create_rank_TOPSIS(data_num2,weight)"
   ]
  },
  {
   "cell_type": "code",
   "execution_count": 595,
   "id": "727759e8",
   "metadata": {},
   "outputs": [],
   "source": [
    "new_data=pd.concat([data,distance],axis=1)"
   ]
  },
  {
   "cell_type": "code",
   "execution_count": 607,
   "id": "14049ef4",
   "metadata": {},
   "outputs": [],
   "source": [
    "new_data=new_data.drop(columns=['Distance_Positive','Distance_Negative'])"
   ]
  },
  {
   "cell_type": "code",
   "execution_count": 610,
   "id": "bdcefcdf",
   "metadata": {},
   "outputs": [],
   "source": [
    "new_data.to_csv('performance_score.csv',index=False)"
   ]
  },
  {
   "cell_type": "code",
   "execution_count": null,
   "id": "c83163f6",
   "metadata": {},
   "outputs": [],
   "source": []
  }
 ],
 "metadata": {
  "kernelspec": {
   "display_name": "Python 3 (ipykernel)",
   "language": "python",
   "name": "python3"
  },
  "language_info": {
   "codemirror_mode": {
    "name": "ipython",
    "version": 3
   },
   "file_extension": ".py",
   "mimetype": "text/x-python",
   "name": "python",
   "nbconvert_exporter": "python",
   "pygments_lexer": "ipython3",
   "version": "3.9.13"
  }
 },
 "nbformat": 4,
 "nbformat_minor": 5
}
